{
 "cells": [
  {
   "cell_type": "code",
   "execution_count": 3,
   "id": "287be687-6b13-4093-938b-97a89e3e5582",
   "metadata": {},
   "outputs": [],
   "source": [
    "import numpy as np\n",
    "import tensorflow as tf\n",
    "from tensorflow.keras.utils import to_categorical\n",
    "from tensorflow.keras.datasets import cifar10"
   ]
  },
  {
   "cell_type": "code",
   "execution_count": null,
   "id": "aad0ea6a-4d16-4d96-aef2-81c8282c7d0c",
   "metadata": {},
   "outputs": [],
   "source": [
    "(x_train, y_train), (x_test, y_test) = cifar10.load_data()"
   ]
  },
  {
   "cell_type": "code",
   "execution_count": null,
   "id": "a54acbef-04af-46fa-b0e2-4907f3a2eb3b",
   "metadata": {},
   "outputs": [],
   "source": [
    "x_train = x_train / 255.0\n",
    "x_test = x_test / 255.0"
   ]
  },
  {
   "cell_type": "raw",
   "id": "d05e56dc-3201-421f-98ac-7a2aec29fac2",
   "metadata": {},
   "source": [
    "This code is creating binary segmentation labels for the training and test images by thresholding the grayscale intensity values at 0.5.\n",
    "y_train_seg: Binary masks for training data.\n",
    "\n",
    "y_test_seg: Binary masks for testing data."
   ]
  },
  {
   "cell_type": "code",
   "execution_count": 4,
   "id": "85f55c94-6b62-469a-9147-fa1e4f4a224d",
   "metadata": {},
   "outputs": [],
   "source": [
    "y_train_seg = (x_train.mean(axis=-1) > 0.5).astype(int)\n",
    "y_test_seg = (x_test.mean(axis=-1) > 0.5).astype(int)"
   ]
  },
  {
   "cell_type": "code",
   "execution_count": 5,
   "id": "d89c0312-5454-4c05-a2d3-425831b40b26",
   "metadata": {},
   "outputs": [],
   "source": [
    "#y_train_seg.shape = (num_samples, height, width, 1)\n",
    "y_train_seg = y_train_seg[:, :, :, np.newaxis]\n",
    "y_test_seg = y_test_seg[:, :, :, np.newaxis]"
   ]
  },
  {
   "cell_type": "code",
   "execution_count": 9,
   "id": "8679f079-fc34-45e4-94e7-825cc89a3e4b",
   "metadata": {},
   "outputs": [],
   "source": [
    "from tensorflow.keras import Model, Input\n",
    "from tensorflow.keras.layers import Conv2D, MaxPooling2D, UpSampling2D,concatenate"
   ]
  },
  {
   "cell_type": "code",
   "execution_count": 13,
   "id": "56f5ff45-3a7d-4d56-813d-cce6cabe8486",
   "metadata": {},
   "outputs": [],
   "source": [
    "def unet_model(input_size=(32, 32, 3)):\n",
    "    inputs = Input(input_size)\n",
    "# Downsampling\n",
    "    c1 = Conv2D(32, (3, 3), activation='relu', padding='same')(inputs)\n",
    "    p1 = MaxPooling2D((2, 2))(c1)\n",
    "    c2 = Conv2D(64, (3, 3), activation='relu', padding='same')(p1)\n",
    "    p2 = MaxPooling2D((2, 2))(c2)\n",
    "# Bottleneck\n",
    "    c3 = Conv2D(128, (3, 3), activation='relu', padding='same')(p2)\n",
    "# Upsampling\n",
    "    u1 = UpSampling2D((2, 2))(c3)\n",
    "    m1 = concatenate([u1, c2])\n",
    "    c4 = Conv2D(64, (3, 3), activation='relu', padding='same')(m1)\n",
    "    u2 = UpSampling2D((2, 2))(c4)\n",
    "    m2 = concatenate([u2, c1])\n",
    "    c5 = Conv2D(32, (3, 3), activation='relu', padding='same')(m2)\n",
    "    outputs = Conv2D(1, (1, 1), activation='sigmoid')(c5)\n",
    "    return Model(inputs, outputs)"
   ]
  },
  {
   "cell_type": "code",
   "execution_count": 15,
   "id": "5482c6e9-59ee-4a9d-9797-5ac76683da9e",
   "metadata": {},
   "outputs": [],
   "source": [
    "# Compile the model\n",
    "model = unet_model()\n",
    "model.compile(optimizer='adam', loss='binary_crossentropy',\n",
    "metrics=['accuracy'])"
   ]
  },
  {
   "cell_type": "code",
   "execution_count": null,
   "id": "0619d50e-7127-445d-9031-3f4a83692905",
   "metadata": {},
   "outputs": [
    {
     "name": "stdout",
     "output_type": "stream",
     "text": [
      "Epoch 1/10\n",
      "\u001b[1m1563/1563\u001b[0m \u001b[32m━━━━━━━━━━━━━━━━━━━━\u001b[0m\u001b[37m\u001b[0m \u001b[1m147s\u001b[0m 92ms/step - accuracy: 0.9358 - loss: 0.1491 - val_accuracy: 0.9886 - val_loss: 0.0313\n",
      "Epoch 2/10\n",
      "\u001b[1m1563/1563\u001b[0m \u001b[32m━━━━━━━━━━━━━━━━━━━━\u001b[0m\u001b[37m\u001b[0m \u001b[1m143s\u001b[0m 91ms/step - accuracy: 0.9881 - loss: 0.0301 - val_accuracy: 0.9931 - val_loss: 0.0194\n",
      "Epoch 3/10\n",
      "\u001b[1m1563/1563\u001b[0m \u001b[32m━━━━━━━━━━━━━━━━━━━━\u001b[0m\u001b[37m\u001b[0m \u001b[1m144s\u001b[0m 92ms/step - accuracy: 0.9923 - loss: 0.0196 - val_accuracy: 0.9949 - val_loss: 0.0142\n",
      "Epoch 4/10\n",
      "\u001b[1m1563/1563\u001b[0m \u001b[32m━━━━━━━━━━━━━━━━━━━━\u001b[0m\u001b[37m\u001b[0m \u001b[1m144s\u001b[0m 92ms/step - accuracy: 0.9933 - loss: 0.0165 - val_accuracy: 0.9955 - val_loss: 0.0121\n",
      "Epoch 5/10\n",
      "\u001b[1m1563/1563\u001b[0m \u001b[32m━━━━━━━━━━━━━━━━━━━━\u001b[0m\u001b[37m\u001b[0m \u001b[1m423s\u001b[0m 271ms/step - accuracy: 0.9951 - loss: 0.0125 - val_accuracy: 0.9967 - val_loss: 0.0096\n",
      "Epoch 6/10\n",
      "\u001b[1m1563/1563\u001b[0m \u001b[32m━━━━━━━━━━━━━━━━━━━━\u001b[0m\u001b[37m\u001b[0m \u001b[1m224s\u001b[0m 143ms/step - accuracy: 0.9956 - loss: 0.0113 - val_accuracy: 0.9966 - val_loss: 0.0089\n",
      "Epoch 7/10\n",
      "\u001b[1m 691/1563\u001b[0m \u001b[32m━━━━━━━━\u001b[0m\u001b[37m━━━━━━━━━━━━\u001b[0m \u001b[1m2:02\u001b[0m 141ms/step - accuracy: 0.9967 - loss: 0.0090"
     ]
    }
   ],
   "source": [
    "# Train the model\n",
    "model.fit(x_train, y_train_seg, validation_data=(x_test, y_test_seg),\n",
    "epochs=10, batch_size=32)"
   ]
  },
  {
   "cell_type": "code",
   "execution_count": null,
   "id": "dc832901-73b5-4c6e-a5ad-d083a86d623c",
   "metadata": {},
   "outputs": [],
   "source": [
    "import matplotlib.pyplot as plt\n",
    "pred = model.predict(x_test[:5])\n",
    "# Display images and masks\n",
    "for i in range(5):\n",
    "plt.subplot(1, 3, 1)\n",
    "plt.title(\"Input Image\")\n",
    "plt.imshow(x_test[i])\n",
    "plt.subplot(1, 3, 2)\n",
    "plt.title(\"Ground Truth Mask\")\n",
    "plt.imshow(y_test_seg[i].squeeze(), cmap='gray')\n",
    "plt.subplot(1, 3, 3)\n",
    "plt.title(\"Predicted Mask\")\n",
    "plt.imshow(pred[i].squeeze(), cmap='gray')\n",
    "plt.show()"
   ]
  },
  {
   "cell_type": "code",
   "execution_count": null,
   "id": "19fb2a17-fc8d-4178-91e0-c286a468f206",
   "metadata": {},
   "outputs": [],
   "source": []
  }
 ],
 "metadata": {
  "kernelspec": {
   "display_name": "Python 3 (ipykernel)",
   "language": "python",
   "name": "python3"
  },
  "language_info": {
   "codemirror_mode": {
    "name": "ipython",
    "version": 3
   },
   "file_extension": ".py",
   "mimetype": "text/x-python",
   "name": "python",
   "nbconvert_exporter": "python",
   "pygments_lexer": "ipython3",
   "version": "3.12.7"
  }
 },
 "nbformat": 4,
 "nbformat_minor": 5
}
